{
  "nbformat": 4,
  "nbformat_minor": 0,
  "metadata": {
    "colab": {
      "provenance": [],
      "authorship_tag": "ABX9TyMnfIzqaTANDbUn2Tuz0wd5",
      "include_colab_link": true
    },
    "kernelspec": {
      "name": "python3",
      "display_name": "Python 3"
    },
    "language_info": {
      "name": "python"
    }
  },
  "cells": [
    {
      "cell_type": "markdown",
      "metadata": {
        "id": "view-in-github",
        "colab_type": "text"
      },
      "source": [
        "<a href=\"https://colab.research.google.com/github/ronnymunthe99/PythonForDataScience/blob/main/NUMPY.ipynb\" target=\"_parent\"><img src=\"https://colab.research.google.com/assets/colab-badge.svg\" alt=\"Open In Colab\"/></a>"
      ]
    },
    {
      "cell_type": "markdown",
      "source": [
        "NUMPY\n",
        "\n",
        "Ronny Dominikus Munthe\n"
      ],
      "metadata": {
        "id": "Cn8uvLyOJ4pK"
      }
    },
    {
      "cell_type": "markdown",
      "source": [
        "**1. Create A Numpy Array**"
      ],
      "metadata": {
        "id": "NuWkRQHRJeq7"
      }
    },
    {
      "cell_type": "code",
      "execution_count": null,
      "metadata": {
        "colab": {
          "base_uri": "https://localhost:8080/"
        },
        "id": "iSSZ5mjtHCjE",
        "outputId": "1bb29104-9c24-40fd-b8cc-851a4bb25531"
      },
      "outputs": [
        {
          "output_type": "execute_result",
          "data": {
            "text/plain": [
              "array([[1, 2, 3],\n",
              "       [3, 4, 5],\n",
              "       [6, 7, 8]])"
            ]
          },
          "metadata": {},
          "execution_count": 2
        }
      ],
      "source": [
        "import numpy as np\n",
        "# Sebuah list of lists yang dikonversi ke array 2 dimensi\n",
        "original_list = [[1,2,3],[3,4,5],[6,7,8]]\n",
        "two_dimensional_array = np.array(original_list)\n",
        "two_dimensional_array"
      ]
    },
    {
      "cell_type": "code",
      "source": [
        "# Sebuah array dengan panjang 10, yang akan diisi dengan 0\n",
        "zero=np.zeros(10, dtype=int)\n",
        "# Sebuah array dengan size 3x5, yang akan diisi dengan 1.0(float)\n",
        "one=np.ones((3, 5), dtype=float)\n",
        "# Sebuah array dengan ukuran 3x5, yang akan diisi dengan 3.14\n",
        "full=np.full((3, 5), 3.14)\n",
        "# Sebuah array yang memuat urutan linier dimulai dari 0 sampai 20, dengan langkah 2\n",
        "arange=np.arange(0, 20, 2)\n",
        "# Sebuah array dengan 5 angka, secara linier berisi antara 0 dan 1\n",
        "linspace=np.linspace(0, 1, 5)\n",
        "# Sebuah array dengan bentuk yang diberikan dan diisi dengan sampel acak. \n",
        "# Juga dapat mencoba menggunakan \"randint\" dan \"normal\".\n",
        "random=np.random.random((3, 3))\n",
        "# Indetitas matriks dengan ukuran 3x3\n",
        "eye=np.eye(3)\n",
        "\n",
        "zero"
      ],
      "metadata": {
        "colab": {
          "base_uri": "https://localhost:8080/"
        },
        "id": "HHfJ0481HPDF",
        "outputId": "487d0a31-2c21-47da-ea19-db2817469464"
      },
      "execution_count": null,
      "outputs": [
        {
          "output_type": "execute_result",
          "data": {
            "text/plain": [
              "array([[1., 0., 0.],\n",
              "       [0., 1., 0.],\n",
              "       [0., 0., 1.]])"
            ]
          },
          "metadata": {},
          "execution_count": 3
        }
      ]
    },
    {
      "cell_type": "code",
      "source": [
        "arange"
      ],
      "metadata": {
        "colab": {
          "base_uri": "https://localhost:8080/"
        },
        "id": "g1Gd8yQXH05E",
        "outputId": "a23487ae-b011-4cbc-afe5-46733d8517a4"
      },
      "execution_count": null,
      "outputs": [
        {
          "output_type": "execute_result",
          "data": {
            "text/plain": [
              "array([ 0,  2,  4,  6,  8, 10, 12, 14, 16, 18])"
            ]
          },
          "metadata": {},
          "execution_count": 7
        }
      ]
    },
    {
      "cell_type": "code",
      "source": [
        "linspace"
      ],
      "metadata": {
        "colab": {
          "base_uri": "https://localhost:8080/"
        },
        "id": "Sal4cEuaHyR7",
        "outputId": "b44ba22f-af80-4ce7-ea3c-4d9a752a01a3"
      },
      "execution_count": null,
      "outputs": [
        {
          "output_type": "execute_result",
          "data": {
            "text/plain": [
              "array([0.  , 0.25, 0.5 , 0.75, 1.  ])"
            ]
          },
          "metadata": {},
          "execution_count": 6
        }
      ]
    },
    {
      "cell_type": "code",
      "source": [
        "random"
      ],
      "metadata": {
        "colab": {
          "base_uri": "https://localhost:8080/"
        },
        "id": "CvR4hkyKHwRT",
        "outputId": "0f184a80-f6a8-4a82-8514-6e82c721f50a"
      },
      "execution_count": null,
      "outputs": [
        {
          "output_type": "execute_result",
          "data": {
            "text/plain": [
              "array([[0.96032279, 0.14472938, 0.50205241],\n",
              "       [0.45185248, 0.51737469, 0.98485742],\n",
              "       [0.56503459, 0.01844799, 0.76410564]])"
            ]
          },
          "metadata": {},
          "execution_count": 5
        }
      ]
    },
    {
      "cell_type": "code",
      "source": [
        "one"
      ],
      "metadata": {
        "colab": {
          "base_uri": "https://localhost:8080/"
        },
        "id": "Bso9C0iWHtiU",
        "outputId": "a77e3207-4bce-40d4-fef8-f0af84c0f2da"
      },
      "execution_count": null,
      "outputs": [
        {
          "output_type": "execute_result",
          "data": {
            "text/plain": [
              "array([[1., 1., 1., 1., 1.],\n",
              "       [1., 1., 1., 1., 1.],\n",
              "       [1., 1., 1., 1., 1.]])"
            ]
          },
          "metadata": {},
          "execution_count": 4
        }
      ]
    },
    {
      "cell_type": "code",
      "source": [
        "np.random.seed(0)\n",
        "x1 = np.random.randint(10, size=6)  \n",
        "# array 1 dimensi\n",
        "print(\"Number of dimensions: \", x1.ndim)\n",
        "print(\"Shape: \", x1.shape)\n",
        "print(\"Size: \", x1.size)\n",
        "print(\"Type: \", x1.dtype)"
      ],
      "metadata": {
        "colab": {
          "base_uri": "https://localhost:8080/"
        },
        "id": "7qeVV6AaH8B7",
        "outputId": "9469e0c0-e686-44a7-d2c0-454ef621b37d"
      },
      "execution_count": null,
      "outputs": [
        {
          "output_type": "stream",
          "name": "stdout",
          "text": [
            "Number of dimensions:  1\n",
            "Shape:  (6,)\n",
            "Size:  6\n",
            "Type:  int64\n"
          ]
        }
      ]
    },
    {
      "cell_type": "code",
      "source": [
        "x1"
      ],
      "metadata": {
        "colab": {
          "base_uri": "https://localhost:8080/"
        },
        "id": "w_cj20zJIAic",
        "outputId": "6a49af24-1ff5-44bd-aa40-b81b5ba56981"
      },
      "execution_count": null,
      "outputs": [
        {
          "output_type": "execute_result",
          "data": {
            "text/plain": [
              "array([5, 0, 3, 3, 7, 9])"
            ]
          },
          "metadata": {},
          "execution_count": 9
        }
      ]
    },
    {
      "cell_type": "markdown",
      "source": [
        "**2. Index and Slice**"
      ],
      "metadata": {
        "id": "TFLRwMWNKJGq"
      }
    },
    {
      "cell_type": "code",
      "source": [
        "# Pada umumnya x[begin:end:step]\n",
        "x2 = np.random.randint(10, size=(3, 4))  \n",
        "# array 2 dimensi\n",
        "print(x2[0,1])\n",
        "\n",
        "# Mengubah nilai:\n",
        "x1[1] = \"1000\"\n",
        "print(x1)\n",
        "\n",
        "# Mementingkan tipe data \n",
        "x1[1] = 3.14\n",
        "print(x1)"
      ],
      "metadata": {
        "colab": {
          "base_uri": "https://localhost:8080/"
        },
        "id": "EfPzYcOHIhIS",
        "outputId": "0f11bd33-7e9f-46e7-e2dd-bcce2c5e79aa"
      },
      "execution_count": null,
      "outputs": [
        {
          "output_type": "stream",
          "name": "stdout",
          "text": [
            "5\n",
            "[   5 1000    3    3    7    9]\n",
            "[5 3 3 3 7 9]\n"
          ]
        }
      ]
    },
    {
      "cell_type": "code",
      "source": [
        "x2"
      ],
      "metadata": {
        "colab": {
          "base_uri": "https://localhost:8080/"
        },
        "id": "K_Idke_cIkR1",
        "outputId": "1d53b49e-f0bf-4f42-e320-3cfe14a15a65"
      },
      "execution_count": null,
      "outputs": [
        {
          "output_type": "execute_result",
          "data": {
            "text/plain": [
              "array([[3, 5, 2, 4],\n",
              "       [7, 6, 8, 8],\n",
              "       [1, 6, 7, 7]])"
            ]
          },
          "metadata": {},
          "execution_count": 11
        }
      ]
    },
    {
      "cell_type": "code",
      "source": [
        "# 5 elemen pertama\n",
        "print(x1[:5])\n",
        "# Elemen dari ke-6 ke seterusnya\n",
        "print(x1[5:])  \n",
        "# setiap dua element\n",
        "print(x1[::2])  "
      ],
      "metadata": {
        "colab": {
          "base_uri": "https://localhost:8080/"
        },
        "id": "XJP-pbBMJBNT",
        "outputId": "4da71794-28be-4ae5-8b5d-934c3a9aed79"
      },
      "execution_count": null,
      "outputs": [
        {
          "output_type": "stream",
          "name": "stdout",
          "text": [
            "[5 3 3 3 7]\n",
            "[9]\n",
            "[5 3 7]\n"
          ]
        }
      ]
    },
    {
      "cell_type": "code",
      "source": [
        "x1[::-1]"
      ],
      "metadata": {
        "colab": {
          "base_uri": "https://localhost:8080/"
        },
        "id": "8DSoN746JHxL",
        "outputId": "ddddd387-6ccd-4272-9d2b-436f928e7c32"
      },
      "execution_count": null,
      "outputs": [
        {
          "output_type": "execute_result",
          "data": {
            "text/plain": [
              "array([9, 7, 3, 3, 3, 5])"
            ]
          },
          "metadata": {},
          "execution_count": 13
        }
      ]
    },
    {
      "cell_type": "code",
      "source": [
        "print(x2)\n",
        "x2[1,:]"
      ],
      "metadata": {
        "colab": {
          "base_uri": "https://localhost:8080/"
        },
        "id": "-8KbRraUJQ7K",
        "outputId": "a9100013-71f4-40c0-b0dd-2a1176ee4492"
      },
      "execution_count": null,
      "outputs": [
        {
          "output_type": "stream",
          "name": "stdout",
          "text": [
            "[[3 5 2 4]\n",
            " [7 6 8 8]\n",
            " [1 6 7 7]]\n"
          ]
        },
        {
          "output_type": "execute_result",
          "data": {
            "text/plain": [
              "array([7, 6, 8, 8])"
            ]
          },
          "metadata": {},
          "execution_count": 15
        }
      ]
    },
    {
      "cell_type": "markdown",
      "source": [
        "**3. Concatenating Arrays**"
      ],
      "metadata": {
        "id": "Q5bBVK0TKSKK"
      }
    },
    {
      "cell_type": "code",
      "source": [
        "# 1 dimensi\n",
        "x = np.array([1, 2, 3])\n",
        "y = np.array([3, 2, 1])\n",
        "np.concatenate([x, y])\n"
      ],
      "metadata": {
        "colab": {
          "base_uri": "https://localhost:8080/"
        },
        "id": "lYaUKhZEKQOq",
        "outputId": "62595b32-71e6-4bd9-9d00-1b48d5b81f5b"
      },
      "execution_count": null,
      "outputs": [
        {
          "output_type": "execute_result",
          "data": {
            "text/plain": [
              "array([1, 2, 3, 3, 2, 1])"
            ]
          },
          "metadata": {},
          "execution_count": 18
        }
      ]
    },
    {
      "cell_type": "code",
      "source": [
        "# multi dimensi\n",
        "x = np.array([1, 2, 3])\n",
        "grid = np.array([[9, 8, 7], [6, 5, 4]])\n",
        "np.vstack([x, grid])"
      ],
      "metadata": {
        "colab": {
          "base_uri": "https://localhost:8080/"
        },
        "id": "md_phbHkKjIr",
        "outputId": "940ce5e5-2cd4-44f2-f4de-594ce5df5447"
      },
      "execution_count": null,
      "outputs": [
        {
          "output_type": "execute_result",
          "data": {
            "text/plain": [
              "array([[1, 2, 3],\n",
              "       [9, 8, 7],\n",
              "       [6, 5, 4]])"
            ]
          },
          "metadata": {},
          "execution_count": 19
        }
      ]
    },
    {
      "cell_type": "markdown",
      "source": [
        "**4. Numpy Essential**"
      ],
      "metadata": {
        "id": "QQGJsWBPKyQZ"
      }
    },
    {
      "cell_type": "code",
      "source": [
        "def calculate_inverse(values):    \n",
        "    output = np.empty(len(values))    \n",
        "    for i in range(len(values)):        \n",
        "        output[i] = 1.0 / values[i]    \n",
        "    return output       \n",
        "\n",
        "values = np.random.randint(1, 10, size=5)\n",
        "print(calculate_inverse(values))\n",
        "\n",
        "large_array = np.random.randint(1, 100, size=1000000)\n",
        "\n",
        "# This is a Jupyter notebook tool to measure the execution\n",
        "# time of an instruction\n",
        "%timeit calculate_inverse(large_array)"
      ],
      "metadata": {
        "colab": {
          "base_uri": "https://localhost:8080/"
        },
        "id": "Tm2wdhsJKw8C",
        "outputId": "66ebf9ec-8f55-4900-d5d9-e2a5dc2854fa"
      },
      "execution_count": null,
      "outputs": [
        {
          "output_type": "stream",
          "name": "stdout",
          "text": [
            "[0.11111111 0.5        0.16666667 0.11111111 0.2       ]\n",
            "2.47 s ± 458 ms per loop (mean ± std. dev. of 7 runs, 1 loop each)\n"
          ]
        }
      ]
    },
    {
      "cell_type": "code",
      "source": [
        "values"
      ],
      "metadata": {
        "colab": {
          "base_uri": "https://localhost:8080/"
        },
        "id": "W5alEL30PXRo",
        "outputId": "f68f68a7-0b8c-4b06-83e4-f291f3634672"
      },
      "execution_count": null,
      "outputs": [
        {
          "output_type": "execute_result",
          "data": {
            "text/plain": [
              "array([9, 2, 6, 9, 5])"
            ]
          },
          "metadata": {},
          "execution_count": 22
        }
      ]
    },
    {
      "cell_type": "markdown",
      "source": [
        "Dapat dilihat di atas, perlu 2.47 s untuk menyelesaikan satu juta operasi. Padahal di zaman sekarang, processor bisa menyelesaikan satu milyar operasi dalam 1 detik, yang membuat ini terlihat sedikit absurd. Maka, akan dapat kita lihat essensial dari numpy"
      ],
      "metadata": {
        "id": "fXMH-Ys0OGuc"
      }
    },
    {
      "cell_type": "code",
      "source": [
        "%timeit (1.0 / large_array)"
      ],
      "metadata": {
        "colab": {
          "base_uri": "https://localhost:8080/"
        },
        "id": "IABuccftPJkr",
        "outputId": "37343d7a-2ddd-4ccb-8467-7d6246be314f"
      },
      "execution_count": null,
      "outputs": [
        {
          "output_type": "stream",
          "name": "stdout",
          "text": [
            "2.37 ms ± 81.9 µs per loop (mean ± std. dev. of 7 runs, 100 loops each)\n"
          ]
        }
      ]
    },
    {
      "cell_type": "markdown",
      "source": [
        "Dengan cara ini, terlihat 1000 kali lebih cepat dari sebelumnya"
      ],
      "metadata": {
        "id": "aWko5LRPP28Z"
      }
    },
    {
      "cell_type": "markdown",
      "source": [
        "**5. Universal Functions**"
      ],
      "metadata": {
        "id": "9wEfOZyhP9z_"
      }
    },
    {
      "cell_type": "code",
      "source": [
        "# Matematika sederhana\n",
        "x = np.arange(4)\n",
        "print(\"x     =\", x)\n",
        "print(\"x + 5 =\", x + 5)\n",
        "print(\"x - 5 =\", x - 5)\n",
        "print(\"x * 2 =\", x * 2)\n",
        "print(\"x / 2 =\", x / 2)\n",
        "# Pembagian dan Dibulatkan\n",
        "print(\"x // 2 =\", x // 2)  "
      ],
      "metadata": {
        "colab": {
          "base_uri": "https://localhost:8080/"
        },
        "id": "4UWANX8DP1Zm",
        "outputId": "043357fa-d17d-42be-de58-cb87968cca5f"
      },
      "execution_count": null,
      "outputs": [
        {
          "output_type": "stream",
          "name": "stdout",
          "text": [
            "x     = [0 1 2 3]\n",
            "x + 5 = [5 6 7 8]\n",
            "x - 5 = [-5 -4 -3 -2]\n",
            "x * 2 = [0 2 4 6]\n",
            "x / 2 = [0.  0.5 1.  1.5]\n",
            "x // 2 = [0 0 1 1]\n"
          ]
        }
      ]
    },
    {
      "cell_type": "code",
      "source": [
        "x = [-2, -1, 1, 2]\n",
        "\n",
        "print(\"Absolute value: \", np.abs(x))\n",
        "print(\"Exponential: \", np.exp(x))\n",
        "print(\"Logarithm: \", np.log(np.abs(x)))"
      ],
      "metadata": {
        "colab": {
          "base_uri": "https://localhost:8080/"
        },
        "id": "voPwxkFCQQNH",
        "outputId": "2c846e94-44b8-4fd5-8018-90297917ab8c"
      },
      "execution_count": null,
      "outputs": [
        {
          "output_type": "stream",
          "name": "stdout",
          "text": [
            "Absolute value:  [2 1 1 2]\n",
            "Exponential:  [0.13533528 0.36787944 2.71828183 7.3890561 ]\n",
            "Logarithm:  [0.69314718 0.         0.         0.69314718]\n"
          ]
        }
      ]
    },
    {
      "cell_type": "markdown",
      "source": [
        "**6. Boolean Operations**"
      ],
      "metadata": {
        "id": "r5hZKU15QZqO"
      }
    },
    {
      "cell_type": "code",
      "source": [
        "x = np.random.rand(3,3)\n",
        "x > 0.5"
      ],
      "metadata": {
        "colab": {
          "base_uri": "https://localhost:8080/"
        },
        "id": "A83y28pPQYM3",
        "outputId": "64eeb82d-0642-4262-be00-0cfb73a6dd96"
      },
      "execution_count": null,
      "outputs": [
        {
          "output_type": "execute_result",
          "data": {
            "text/plain": [
              "array([[ True,  True, False],\n",
              "       [ True,  True,  True],\n",
              "       [False,  True, False]])"
            ]
          },
          "metadata": {},
          "execution_count": 26
        }
      ]
    },
    {
      "cell_type": "code",
      "source": [
        "x"
      ],
      "metadata": {
        "colab": {
          "base_uri": "https://localhost:8080/"
        },
        "id": "rYPI2yUSQ66f",
        "outputId": "aca3a122-630f-42b9-9937-e5c5fd5a65b0"
      },
      "execution_count": null,
      "outputs": [
        {
          "output_type": "execute_result",
          "data": {
            "text/plain": [
              "array([[0.84627748, 0.703217  , 0.18815616],\n",
              "       [0.84843905, 0.90182436, 0.51108795],\n",
              "       [0.39700962, 0.55506003, 0.21672088]])"
            ]
          },
          "metadata": {},
          "execution_count": 28
        }
      ]
    },
    {
      "cell_type": "code",
      "source": [
        "np.where(x > 0.5)"
      ],
      "metadata": {
        "colab": {
          "base_uri": "https://localhost:8080/"
        },
        "id": "3DkWnkQuQ3aQ",
        "outputId": "f6b72d74-fca7-4898-bc36-dcd5f57439a3"
      },
      "execution_count": null,
      "outputs": [
        {
          "output_type": "execute_result",
          "data": {
            "text/plain": [
              "(array([0, 0, 1, 1, 1, 2]), array([0, 1, 0, 1, 2, 1]))"
            ]
          },
          "metadata": {},
          "execution_count": 27
        }
      ]
    },
    {
      "cell_type": "markdown",
      "source": [
        "**7. Aggregation**"
      ],
      "metadata": {
        "id": "mrvVZTy8Rsee"
      }
    },
    {
      "cell_type": "code",
      "source": [
        "L = np.random.random(100)\n",
        "np.sum(L)"
      ],
      "metadata": {
        "colab": {
          "base_uri": "https://localhost:8080/"
        },
        "id": "e1ZI3e-IRqLf",
        "outputId": "6314f2e5-2aff-4375-f8b2-28f37f6ae8fe"
      },
      "execution_count": null,
      "outputs": [
        {
          "output_type": "execute_result",
          "data": {
            "text/plain": [
              "49.09899667867994"
            ]
          },
          "metadata": {},
          "execution_count": 29
        }
      ]
    },
    {
      "cell_type": "code",
      "source": [
        "%timeit sum(large_array)\n",
        "%timeit np.sum(large_array)"
      ],
      "metadata": {
        "colab": {
          "base_uri": "https://localhost:8080/"
        },
        "id": "w9F2C92fR4kO",
        "outputId": "7075bc77-4e25-4ef2-9615-d877e92a6566"
      },
      "execution_count": null,
      "outputs": [
        {
          "output_type": "stream",
          "name": "stdout",
          "text": [
            "87.9 ms ± 1.38 ms per loop (mean ± std. dev. of 7 runs, 10 loops each)\n",
            "889 µs ± 102 µs per loop (mean ± std. dev. of 7 runs, 1000 loops each)\n"
          ]
        }
      ]
    },
    {
      "cell_type": "code",
      "source": [
        "M = np.random.random((3, 4))\n",
        "print(M)\n",
        "# Note : sintaks nya variable.function bukan np.function(variable)\n",
        "# Tapi bisa pake dua duanya jika variabel nya adalah numpy array\n",
        "print(\"Sum of all elements of M: \", M.sum()) # menjumlahkan semua angka\n",
        "print(\"Sums of the columns of M: \", M.sum(axis=0)) # menjumlahkan semua angka perkolomnya untuk perbaris bisa pakai axis=1"
      ],
      "metadata": {
        "colab": {
          "base_uri": "https://localhost:8080/"
        },
        "id": "e4Pq-0rXSK6X",
        "outputId": "d41dcee1-27e0-4a2d-e4c3-de3116de3ebf"
      },
      "execution_count": null,
      "outputs": [
        {
          "output_type": "stream",
          "name": "stdout",
          "text": [
            "[[0.53898707 0.40910709 0.80545608 0.95368115]\n",
            " [0.90023463 0.11726726 0.69419236 0.14765576]\n",
            " [0.78996776 0.13276032 0.05339652 0.23916405]]\n",
            "Sum of all elements of M:  5.781870053865353\n",
            "Sums of the columns of M:  [2.22918946 0.65913467 1.55304495 1.34050097]\n"
          ]
        }
      ]
    },
    {
      "cell_type": "markdown",
      "source": [
        "\n",
        "\n",
        "*   np.std -> standar deviasi\n",
        "*   np.argmin -> indeks nilai min(sebaliknya np.argmax)\n",
        "*   np.percentile -> mendapat statistik dari elemen\n",
        "\n",
        "\n",
        "\n",
        "\n",
        "\n",
        "\n",
        "\n",
        "\n",
        "\n",
        "\n"
      ],
      "metadata": {
        "id": "Pk2fzwrmTRzg"
      }
    },
    {
      "cell_type": "markdown",
      "source": [
        "**8. Broadcasting**"
      ],
      "metadata": {
        "id": "ESztlnmQT5mF"
      }
    },
    {
      "cell_type": "code",
      "source": [
        "a = np.array([0, 1, 2])\n",
        "b = np.array([5, 5, 5])\n",
        "a + b"
      ],
      "metadata": {
        "colab": {
          "base_uri": "https://localhost:8080/"
        },
        "id": "Fiuw3qd8Sh8h",
        "outputId": "1bfd7c4f-9632-4d75-acab-fa97cb0d7f0c"
      },
      "execution_count": null,
      "outputs": [
        {
          "output_type": "execute_result",
          "data": {
            "text/plain": [
              "array([5, 6, 7])"
            ]
          },
          "metadata": {},
          "execution_count": 35
        }
      ]
    },
    {
      "cell_type": "code",
      "source": [
        "a + 5"
      ],
      "metadata": {
        "colab": {
          "base_uri": "https://localhost:8080/"
        },
        "id": "haIdesPqUAZF",
        "outputId": "ca25d244-86ef-4b81-ab04-123a2ef0180c"
      },
      "execution_count": null,
      "outputs": [
        {
          "output_type": "execute_result",
          "data": {
            "text/plain": [
              "array([5, 6, 7])"
            ]
          },
          "metadata": {},
          "execution_count": 36
        }
      ]
    },
    {
      "cell_type": "code",
      "source": [
        "M = np.ones((3, 3))\n",
        "print(\"M is: \\n\", M)\n",
        "print(\"M+a is: \\n\", M+a)"
      ],
      "metadata": {
        "id": "oIZdaLk8UGFl",
        "outputId": "ec731cbc-1d86-4730-a167-5ac9b89022ab",
        "colab": {
          "base_uri": "https://localhost:8080/"
        }
      },
      "execution_count": null,
      "outputs": [
        {
          "output_type": "stream",
          "name": "stdout",
          "text": [
            "M is: \n",
            " [[1. 1. 1.]\n",
            " [1. 1. 1.]\n",
            " [1. 1. 1.]]\n",
            "M+a is: \n",
            " [[1. 2. 3.]\n",
            " [1. 2. 3.]\n",
            " [1. 2. 3.]]\n"
          ]
        }
      ]
    }
  ]
}